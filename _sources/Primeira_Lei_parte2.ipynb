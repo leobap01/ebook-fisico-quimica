{
 "cells": [
  {
   "cell_type": "markdown",
   "metadata": {},
   "source": [
    "\n",
    "# Leitura Complementar Sobre a Primeira Lei da Termodinâmica: \n",
    "\n",
    "## Resolvendo problemas via integração numérica"
   ]
  },
  {
   "cell_type": "markdown",
   "metadata": {},
   "source": [
    "<font size = \"4\">Como percebido nos exemplos anteriores, dependendo da equação de estado utilizada, pode ser necessário a resolução de integrais complicadas. Por este motivo, muitos problemas em termodinâmica são resolvidos por integração numérica dentro do intervalo de valores desejados. A linguagem Python contem uma série de bibliotecas e métodos computacionais que permitem a resolução de uma integral definida numericamente sem previamente resolvê-la manualmente. Este método será ilustrado repetindo o cálculo do trabalho realizado nos Exemplos 3-4, mas desta vez utilizando um método de integração numérica.\n",
    "\n",
    "<font>"
   ]
  },
  {
   "cell_type": "markdown",
   "metadata": {},
   "source": [
    "Os seguintes módulos precisam ser carregados para resolução dos exercícios:"
   ]
  },
  {
   "cell_type": "code",
   "execution_count": 2,
   "metadata": {},
   "outputs": [],
   "source": [
    "#bibliotecas necessárias para resolução de exercícios\n",
    "import numpy as np\n",
    "from scipy.optimize import curve_fit\n",
    "from scipy.integrate import quad\n",
    "from scipy.integrate import simps\n",
    "from scipy.integrate import trapz\n",
    "import matplotlib.pyplot as plt"
   ]
  },
  {
   "cell_type": "markdown",
   "metadata": {},
   "source": [
    "## Exemplo 1: Cálculo do trabalho em uma expansão reversível de um gás considerando diferentes equações de estado\n",
    "\n",
    "<font size=\"4\"> Considere a compressão reverssível de 1,0 mol de um gás ideal, de 22,4 L para 1,0L mantendo T constante a 0ºC. Calcule o trabalho realizado neste processo considerando que o gás obedece a: a) equação de van der Waals, b) a equação do virial, e c) a equação de Redlich-Kowng.\n",
    "\n",
    "### Solução \n",
    "\n",
    "O trabalho reversível é o trabalho teórico máximo que o sistema pode realizar. Este trabalho é teórico pois considera que o trabalho é feito em n etapas infinitesimais. O valor do trabalho dependerá do sistema e da equação de estado que descreve este sistema. Por este motivo, em primeiro lugar é preciso encontrar um expressão para o trabalho p-V de um gás ideal. No trabalho reversível podemos considerar que a pressão de oposição se iguala a pressão do sistema, sendo esta calculada pela equação de estado. \n",
    "    \n",
    "A biblioteca SciPy possibilita o uso da função quad, baseada na biblioteca Fortran QUADPACK, para calcular integrais definidas no intervalo de \"a\" até \"b\". Para utilizar esta função é preciso definir a função matemática, segundo a sintaxe do Python, e posteriormente proceder com integração numérica. \n",
    "\n",
    "$$ dW = -pdV $$\n",
    "    \n",
    "Sintaxe a ser usada: resultado, erro = quad(função,valor inicial, valor final)\n",
    "\n",
    "       "
   ]
  },
  {
   "cell_type": "code",
   "execution_count": 2,
   "metadata": {},
   "outputs": [
    {
     "name": "stdout",
     "output_type": "stream",
     "text": [
      "Trabalho (J/ mol)= 6995.214\n",
      "erro da integração = 1.491e-08\n"
     ]
    }
   ],
   "source": [
    "#a) Trabalho considerando a eq. de van der Waals\n",
    "\n",
    "# Primeiro definimos a função segundo a sintaxe do Python\n",
    "#Note que será resolvida a integral de -pdV.\n",
    "\n",
    "R = 8.314          # m^3 Pa / K mol   \n",
    "a = 0.1380         # m^3 Pa / mol^2\n",
    "b = 0.0319e-3      # m^3 / mol  \n",
    "\n",
    "V1 = 22.4e-3       # m^3\n",
    "V2 = 1e-3          # m^3\n",
    "T = 273            # K\n",
    "\n",
    "def p(V):\n",
    "    \n",
    "    return -(R*T/(V-b) - a/(V**2))\n",
    "\n",
    "# Integração numérica da função p(V)\n",
    "\n",
    "Wquad, err = quad(p, V1, V2)  # Wqad é o objeto que armazenará o resultado, e o objeto err armazenará o erro da integração numérica\n",
    "\n",
    "\n",
    "print('Trabalho (J/ mol)= ' + format(Wquad , '6.3f'))\n",
    "print('erro da integração = ' + format(err, '6.3e'))"
   ]
  },
  {
   "cell_type": "markdown",
   "metadata": {},
   "source": [
    "<font size = \"4\">Neste caso ocorre uma pequena diferença entre os valores calculados usando o resultado analítico e o método de integração numérica, mas o erro é aceitável. <font>"
   ]
  },
  {
   "cell_type": "code",
   "execution_count": 3,
   "metadata": {},
   "outputs": [
    {
     "name": "stdout",
     "output_type": "stream",
     "text": [
      "Trabalho (J/ mol)= 7010.245\n",
      "erro da integração = 1.700e-08\n"
     ]
    }
   ],
   "source": [
    "#b) Trabalho considerando a eq. do virial\n",
    "\n",
    "# Primeiro definimos a função segundo a sintaxe do Python\n",
    "\n",
    "B = -22.0e-6        # m**3 / mol \n",
    "C = 1100e-12        # m**6 / mol**2\n",
    "\n",
    "\n",
    "def p(V):\n",
    "    \n",
    "    return -R*T/V *(1 + B/V + C/V**2) \n",
    "\n",
    "# Agora é calculado a integral (Wquad), o erro associado a integração numérica (err), da função definida anteriormente\n",
    "# nos intervalos de V1 a V2\n",
    "\n",
    "Wquad, err = quad(p, V1, V2)\n",
    "\n",
    "\n",
    "\n",
    "# Verifique que o resultado é basicamente o mesmo do obtido anteriormente.\n",
    "\n",
    "print('Trabalho (J/ mol)= ' + format(Wquad , '6.3f'))\n",
    "print('erro da integração = ' + format(err, '6.3e'))"
   ]
  },
  {
   "cell_type": "code",
   "execution_count": 4,
   "metadata": {},
   "outputs": [
    {
     "name": "stdout",
     "output_type": "stream",
     "text": [
      "Trabalho (J/ mol)= 7005.820\n",
      "erro da integração = 1.699e-08\n"
     ]
    }
   ],
   "source": [
    "#c) Trabalho considerando a eq. de Redlich-Kwong\n",
    "\n",
    "# Primeiro definimos a função segundo a sintaxe do Python\n",
    "\n",
    "a = 17.16*101.3e-3        # m**6 K^0,5 Pa / mol^2 \n",
    "b = 0.0221e-3             # m**3 / mol\n",
    "\n",
    "def p(V):\n",
    "    \n",
    "    return -(R*T/(V-b) - a/(V*(V+b)*T**0.5))\n",
    "\n",
    "Wquad, err = quad(p, V1, V2)\n",
    "\n",
    "\n",
    "\n",
    "\n",
    "print('Trabalho (J/ mol)= ' + format(Wquad , '6.3f'))\n",
    "print('erro da integração = ' + format(err, '6.3e'))"
   ]
  },
  {
   "cell_type": "markdown",
   "metadata": {},
   "source": [
    "<font size = \"4\">Os métodos de integração numérica simplificam o  resolução de integrais complicadas e podem levar a resultados comparativamente iguais ao do método analítico. Como pode ser observado, não foi preciso integrar analiticamente a função desejada, definir a equação resultante no script e, finalmente, fazer a substituição dos valores nas variáveis da equação. O que levou a uma grande simplificação na resolução do exercício. No entanto, métodos de integração numérica introduzem um erro no resultado da integração e devem ser escolhidos de acordo com o problema matemático a ser resolvido. <font>"
   ]
  },
  {
   "cell_type": "markdown",
   "metadata": {},
   "source": [
    "<font size =\"4\"> Todos os exemplos anteriores que envolvem o polinômio da capacidade calorífica e obtenção do polinômio da capacidade calorífica poderiam ser resolvidos por integração numérica. No entanto, é importante conhecer as duas formas de resolução dos problemas para que seja escolhido o método mais adequado de acordo com o problema abordado.<font>"
   ]
  },
  {
   "cell_type": "markdown",
   "metadata": {},
   "source": [
    "## Sugestão de exercício:\n",
    "\n",
    "<font size =\"4\">Resolva os exemplos 8 e 9 do capítulo anterior usando o método de integração numérica e compare os resultados obtidos com a solução analítica do problema. <font>"
   ]
  },
  {
   "cell_type": "markdown",
   "metadata": {},
   "source": [
    "## Exemplo 2: Cálculo do trabalho em uma expansão reversível de um gás a partir de dados experimentais\n",
    "\n",
    "<font size =\"4\"> Um gás sofre uma expansão de 1,0 L, 5,00 atm e 500 K até o estado final de 0,5 atm, 4,0 L e 108 K. Durante a expansão o seguintes dados p-V foram medidos:\n",
    "\n",
    "\n",
    "|   |   |   |   |   |   |   |\n",
    "|---|---|---|---|---|---|---|\n",
    "p(atm)|5,000|2,5404|1,5713|1,0825|0,7983|0,5000\n",
    "Vm(L/mol)|1,00|1,50|2,00|2,50|3,00|4,00\n",
    "   \n",
    "<font>"
   ]
  },
  {
   "cell_type": "markdown",
   "metadata": {},
   "source": [
    "### Solução \n",
    "\n",
    "<font size =\"4\"> Assim como no Exemplo 1, o cálculo do trabalho é feito pela resolução da integral \n",
    "\n",
    "$$ dW = -pdV $$\n",
    "    \n",
    "Logo, o trabalho é a área sob a curva do gráfico de p contra V. A biblioteca SciPy possibilita o uso da Regra do Trapézio e da Regra de Simpson para integração numérica sem que haja necessidade do ajuste de uma função polinomial posterior ao cálculo da integral. Para utilizar esta função é preciso definir o intervalo de valores desejados na forma de um vetor, e posteriormente proceder com integração numérica. \n",
    "\n",
    "    \n",
    "Sintaxe a ser usada: resultado = simps(y, x) ou resultado = trapz(y, x)"
   ]
  },
  {
   "cell_type": "code",
   "execution_count": 4,
   "metadata": {},
   "outputs": [
    {
     "name": "stdout",
     "output_type": "stream",
     "text": [
      "Trabalho calculado pela regra de Simpson (J/mol) = -4.556e+02\n",
      "Trabalho calculado pela regra de Trapézio (J/mol) = -4.660e+02\n"
     ]
    }
   ],
   "source": [
    "p = np.array([5,2.5,1.5,1.0,0.8,0.5])*101.3e3 # Pa\n",
    "\n",
    "Vm = np.array([1,1.5,2,2.5,3,4])*1e-3 #m³/mol\n",
    "\n",
    "Ws = -simps(p, Vm)  # integração usando a regra de Simpson\n",
    "\n",
    "Wt = -trapz(p, Vm)  # integração usando a regra de Trapézio\n",
    "\n",
    "print('Trabalho calculado pela regra de Simpson (J/mol) = ' + format(Ws, '6.3e'))\n",
    "print('Trabalho calculado pela regra de Trapézio (J/mol) = ' + format(Wt, '6.3e'))\n"
   ]
  },
  {
   "cell_type": "markdown",
   "metadata": {},
   "source": [
    "<font size =\"4\"> Perceba que os resultados são similares e a resolução do problema se torna muito simples com estas duas metodologias. A escolha do método de integração numérica dependerá dos dados fornecidos pelo problema, pois cada método apresenta prós e contras. <font>"
   ]
  }
 ],
 "metadata": {
  "kernelspec": {
   "display_name": "Python 3",
   "language": "python",
   "name": "python3"
  },
  "language_info": {
   "codemirror_mode": {
    "name": "ipython",
    "version": 3
   },
   "file_extension": ".py",
   "mimetype": "text/x-python",
   "name": "python",
   "nbconvert_exporter": "python",
   "pygments_lexer": "ipython3",
   "version": "3.8.10"
  }
 },
 "nbformat": 4,
 "nbformat_minor": 4
}
