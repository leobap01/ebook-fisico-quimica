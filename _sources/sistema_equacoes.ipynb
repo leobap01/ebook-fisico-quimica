{
 "cells": [
  {
   "cell_type": "markdown",
   "id": "989cfe6c",
   "metadata": {},
   "source": [
    "# Leitura Complementar\n",
    "## Exemplo de como resolver sistema de equações em python\n",
    "\n",
    "<font size=\"4\"> Muitos problemas de equilíbrio químico envolvem a resolução de equações de sistemas lineares e não lineares. Os  exemplos servirão como base para resolução de exercícios de equilíbrio químico, como por exemplo no cálculo da composição de equilibrio de reações químicas, resolvendo um sistema de equações não lineares. Os exemplo resolvidos motram várias maneiras de  se resolver sistemas de equações em python. <font > "
   ]
  },
  {
   "cell_type": "markdown",
   "id": "7009321f",
   "metadata": {},
   "source": [
    "<font size=\"4\"> Para resolução dos exemplos serão utilizados as bibliotecas Numpy e SciPy. <font>"
   ]
  },
  {
   "cell_type": "code",
   "execution_count": 1,
   "id": "dc6a9910",
   "metadata": {},
   "outputs": [],
   "source": [
    "# Módulos necessários para resolver sistema de equações\n",
    "import numpy as np\n",
    "from scipy.optimize import fsolve\n",
    "from scipy.optimize import least_squares\n"
   ]
  },
  {
   "cell_type": "markdown",
   "id": "05a7efea",
   "metadata": {},
   "source": [
    "<font size =\"4\"> O caso mais simples são sistemas lineares. Nestes casos, a resolução do sistema pode ser feita pela regra de Cramer: $ A = A^{-1} B $. Basta escrever as equações no formato de um sistema de equações e resolvê-lo usando a rotina np.linalg.solve(A, B). Onde A e B são duas matrizes e a instrução linalg.solve() calculará a solução do sistema de equações lineares.  <font>"
   ]
  },
  {
   "cell_type": "markdown",
   "id": "c41bc44d",
   "metadata": {},
   "source": [
    " ## Ex.) Resolva o sistema de equações abaixo:\n",
    "    \n",
    "<font size =\"4\">\n",
    "$$ x + 2y = 1 $$ \n",
    "$$ 3x + 5y = 2 $$\n",
    "<font>"
   ]
  },
  {
   "cell_type": "markdown",
   "id": "683ad9cd",
   "metadata": {},
   "source": [
    "## Solução\n",
    "\n",
    "<font size = \"4\">Em primeiro lugar é preciso definir o sistema de equaçõesa ser resolvido. Isto é feito escrevendo as funções forma que sejam calculadas na forma de uma equação matricial: \n",
    "\n",
    "\n",
    "$ A = A^{-1} B $, onde:\n",
    "    \n",
    "$$ A = \\begin{bmatrix}1 & 2\\\\\n",
    "3 & 5\\\\\n",
    "\\end{bmatrix} $$\n",
    "\n",
    "$$ B = \\begin{bmatrix}1 \\\\\n",
    "2 \\\\\n",
    "\\end{bmatrix} $$\n",
    "    \n",
    "    \n",
    "<font>\n",
    "\n",
    "\n",
    "   "
   ]
  },
  {
   "cell_type": "code",
   "execution_count": 2,
   "id": "e133f78c",
   "metadata": {},
   "outputs": [
    {
     "name": "stdout",
     "output_type": "stream",
     "text": [
      "x = -1.000 y =  1.000\n"
     ]
    }
   ],
   "source": [
    "#Definição das matrizes\n",
    "\n",
    "A = np.array([[1, 2], [3, 5]])\n",
    "\n",
    "B = np.array([1, 2])\n",
    "\n",
    "x = np.linalg.solve(A, B)\n",
    "\n",
    "print('x = ' + format(x[0] , ' 6.3f'), 'y = ' + format(x[1] , ' 6.3f'))"
   ]
  },
  {
   "cell_type": "markdown",
   "id": "613aac80",
   "metadata": {},
   "source": [
    "## Ex.) Resolva o sistema de equações abaixo:\n",
    "\n",
    "<font size =\"4\">\n",
    "$$ 4x^2 + y^2  = 1 $$\n",
    "$$ x^2 + 9y^2  = 1 $$ \n",
    "<font>"
   ]
  },
  {
   "cell_type": "markdown",
   "id": "e9708d1a",
   "metadata": {},
   "source": [
    "## Solução\n",
    "\n",
    "<font size = \"4\"> Novamente a primeira coisa a ser feita é definir o sistema de equações a ser resolvido. Isto é feito escrevendo as funções forma que sejam calculadas suas raízes no formato do python. Neste exemplo deve-se escrever da forma:\n",
    "\n",
    "$$ 4x^2 + y^2 - 1 = 0 $$ \n",
    "    \n",
    "    \n",
    "$$ x^2 + 9y^2 -1 = 0 $$\n",
    "    \n",
    "<font>\n"
   ]
  },
  {
   "cell_type": "code",
   "execution_count": 3,
   "id": "bd13188c",
   "metadata": {},
   "outputs": [],
   "source": [
    "# Definição das funções\n",
    "\n",
    "def equations(vars):\n",
    "    x, y = vars\n",
    "    eq1 = 4*x**2 + y**2 - 1\n",
    "    eq2 = x**2 + 9*y**2 - 1\n",
    "    return [eq1, eq2]\n"
   ]
  },
  {
   "cell_type": "markdown",
   "id": "54b58a95",
   "metadata": {},
   "source": [
    "<font size =\"4\"> Existem duas maneiras de se resolver este sistema. Uma faz uso da rotina least_squares, que faz uso dos mínimos quadrados para encontrar a solução impondo restrições as variáveis. A outra forma é usar a rotina fsolve que busca as raízes das funções definidas. Em ambos os casos é necessário informar uma estimativa inicial para os valores que devem ser calculados. A sintaxe das duas instruções é muito similar. <font>"
   ]
  },
  {
   "cell_type": "code",
   "execution_count": 4,
   "id": "9b914fb8",
   "metadata": {},
   "outputs": [
    {
     "name": "stdout",
     "output_type": "stream",
     "text": [
      "Solução com fsolve=  0.47809 0.29277\n",
      "\n",
      "Solução com least_squares=  0.47809 0.29277\n"
     ]
    }
   ],
   "source": [
    "#Resolvendo com fsolv. Os números entre parênteses são o chute inicial para x e y.\n",
    "\n",
    "x, y =  fsolve(equations, (3, 2))\n",
    "print('Solução com fsolve= ' +  format(x , ' 6.5f') + format(y , ' 6.5f'))\n",
    "\n",
    "print()\n",
    "\n",
    "#Resolvendo com lest_squares. Os números entre parênteses são o chute inicial para x e y.\n",
    "\n",
    "res = least_squares(equations, (3, 2))\n",
    "\n",
    "print('Solução com least_squares= ' + format(res.x[0] , ' 6.5f') + format(res.x[1] , ' 6.5f'))\n",
    "\n",
    "  "
   ]
  },
  {
   "cell_type": "markdown",
   "id": "23a25900",
   "metadata": {},
   "source": [
    "<font size =\"4\"> Como pode ser observado os resultados são iguais. A escolha do método de resolução dependerá do problema em questão e se existe a necessidade de impor restrições a variáveis do problema. <font>"
   ]
  }
 ],
 "metadata": {
  "kernelspec": {
   "display_name": "Python 3",
   "language": "python",
   "name": "python3"
  },
  "language_info": {
   "codemirror_mode": {
    "name": "ipython",
    "version": 3
   },
   "file_extension": ".py",
   "mimetype": "text/x-python",
   "name": "python",
   "nbconvert_exporter": "python",
   "pygments_lexer": "ipython3",
   "version": "3.8.10"
  }
 },
 "nbformat": 4,
 "nbformat_minor": 5
}
