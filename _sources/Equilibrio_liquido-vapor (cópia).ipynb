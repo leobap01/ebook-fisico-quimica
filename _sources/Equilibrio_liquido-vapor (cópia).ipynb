{
 "cells": [
  {
   "cell_type": "markdown",
   "metadata": {
    "id": "5V6ceO3nwIL6"
   },
   "source": [
    "# Equilíbrio Líquido-Vapor\n",
    "\n",
    "<font size=\"4\"> Equações de estado podem ser usadas para predizer a pressão de vapor, volume molar do líquido e vapor em equilíbrio ($V_m ^l, V_m ^v  $)e entalpia de vaporização.  <font>"
   ]
  },
  {
   "cell_type": "code",
   "execution_count": 1,
   "metadata": {
    "id": "v30QFJJ9wIMH"
   },
   "outputs": [],
   "source": [
    "# Módulos necessários para resolver sistema de equações\n",
    "import numpy as np\n",
    "from scipy.optimize import fsolve\n",
    "from scipy.optimize import least_squares\n",
    "import matplotlib.pyplot as plt"
   ]
  },
  {
   "cell_type": "markdown",
   "metadata": {
    "id": "48zsAdI8wIML"
   },
   "source": [
    "## Exemplo 1\n",
    "\n",
    "<font size = \"4\"> A partir da equaçã ode estado de Redlich-Kwong,  estime a pressão de vapor e os volumes molares de saturação das fases líquidas e gasosas do $C_3 H_8$ a 25ºC. Use os valores tabelados de a e b para o propano. <font> "
   ]
  },
  {
   "cell_type": "markdown",
   "metadata": {
    "id": "zpOa0SxowIMM"
   },
   "source": [
    "## Solução\n",
    "\n",
    "<font size =\"4\">\n",
    "\n",
    "Para estudar o equilíbrio líquido vapor, as três equações abaixo precisam ser satisfeitas:\n",
    "\n",
    "$$ p = \\frac{1}{V_m^v - V_m^l} \\left( RT ln \\frac{V_m^v - b}{V_m^l -b} -\\frac{a}{bT^{1/2}} ln \\frac{V_m^v(V_m^l + b)}{V_m^l(V_m^v + b)} \\right) $$\n",
    "\n",
    "$$ p = \\frac{RT}{V_m^v - b}  - \\frac{a}{V_m^v(V_m^v + b)T^{1/2}} $$\n",
    "\n",
    "$$ p = \\frac{RT}{V_m^l - b}  - \\frac{a}{V_m^l(V_m^l + b)T^{1/2}} $$\n",
    "\n",
    "Como é um problema que envolve a solução de um sistema de equações não lineares, será usado um dos métodos já mostrados para resolução do problema. Neste caso faremos uso do scipy.optimize.least_squares() para solução do problema impondo algumas restrições as variáveis.  As restrições que serão impostas são:\n",
    "\n",
    "- $1 ~atm < p_{vap} < p_c $\n",
    "- $ b < V_m ^l < V_c $\n",
    "- $V_c < V_m ^v $\n",
    "\n",
    "<font>"
   ]
  },
  {
   "cell_type": "code",
   "execution_count": 4,
   "metadata": {
    "id": "ckZdkPzwwIMN",
    "outputId": "63f516e9-eeec-4e8f-e207-eec0463d638e"
   },
   "outputs": [
    {
     "name": "stdout",
     "output_type": "stream",
     "text": [
      "pressão de vapor (atm)=  11.026\n",
      "Volume molar do líquido (cm^3) 100.595\n",
      "Volume molar do vapor (cm^3) = 1789.003\n"
     ]
    }
   ],
   "source": [
    "#Variáveis\n",
    "\n",
    "R = 82.06 # atm cm³/K mol\n",
    "T = 298.15 # K\n",
    "a = 1.80e8 # cm^6 atm K^1/2 mol^-2\n",
    "b = 62.7   # cm^3/mol\n",
    "\n",
    "\n",
    "\n",
    "# definindo o sistema de equações\n",
    "\n",
    "\n",
    "\n",
    "def equations(vars):\n",
    "    pvap, Vl, Vv = vars\n",
    "    \n",
    "    eq1 = 1/(Vv - Vl)*(R*T*np.log((Vv - b)/(Vl - b)) - a/(b*T**0.5)*np.log((Vv*(Vl+b)/(Vl*(Vv +b))))) - pvap\n",
    "    \n",
    "    eq2 = R*T/(Vv - b) - a/(Vv*(Vv + b)*T**0.5) - pvap \n",
    "    \n",
    "    eq3 = R*T/(Vl - b) - a/(Vl*(Vl + b)*T**0.5) - pvap\n",
    "    \n",
    "    return [eq1, eq2, eq3]\n",
    "\n",
    "\n",
    "\n",
    "\n",
    "res = least_squares(equations, (30, 80, 1200), bounds=((1, 70, 200 ),(40, 200, 3000 )) )\n",
    "\n",
    "\n",
    "print('pressão de vapor (atm)= ' + format(res.x[0] , ' 6.3f'))\n",
    "print('Volume molar do líquido (cm^3)' + format(res.x[1] , ' 6.3f'))\n",
    "print('Volume molar do vapor (cm^3) =' + format(res.x[2] , ' 6.3f'))"
   ]
  },
  {
   "cell_type": "markdown",
   "metadata": {
    "id": "2WNhUk6EwaYQ"
   },
   "source": [
    "## **Exercício em substituição ao sexto teste. Data da entrega: 07 de abril, até 20 horas.**\n",
    "\n",
    "\n",
    "\n",
    "\n",
    "1.   Repita o exercício anterior para o gás de van der Waals\n",
    "2.   Resolva o exercício 8.15b. É o mesmo processo anterior, mas usando a equação de estado de Soave-Redlich-Kwong\n",
    "\n"
   ]
  },
  {
   "cell_type": "code",
   "execution_count": 8,
   "metadata": {},
   "outputs": [
    {
     "name": "stdout",
     "output_type": "stream",
     "text": [
      "O valor de a(T) é 10820137.007199321\n",
      "O resultado bateu com o livro\n",
      "b= 62.74842654701671\n"
     ]
    }
   ],
   "source": [
    "#Questão 2\n",
    "#variáveis\n",
    "R=82.06 # atm cm³/K mol\n",
    "T=298.15 # K\n",
    "Tc=369.8 # K\n",
    "Pc=41.9 # atm\n",
    "\n",
    "\n",
    "w=0.153\n",
    "m=0.480+1.574*w-0.176*w**2\n",
    "a=0.42748*((R**2*Tc**2)/(Pc))*(1+m*(1-(T/Tc)**0.5))**2\n",
    "\n",
    "print('O valor de a(T) é', a)\n",
    "print('O resultado bateu com o livro')\n",
    "\n",
    "\n",
    "b = 0.08664*R*Tc/Pc\n",
    "\n",
    "print('b=', b)"
   ]
  },
  {
   "cell_type": "code",
   "execution_count": 16,
   "metadata": {},
   "outputs": [
    {
     "name": "stdout",
     "output_type": "stream",
     "text": [
      "Solução com least_squares=  [   9.49074576   97.73094636 2137.76040267]\n"
     ]
    }
   ],
   "source": [
    "#Variáveis\n",
    "\n",
    "\n",
    "#a= 10082000\n",
    "\n",
    "# definindo o sistema de equações\n",
    "\n",
    "\n",
    "def equations(vars):\n",
    "    pvap, Vl, Vv = vars\n",
    "    \n",
    "    eq1 = 1/(Vv - Vl)*(R*T*np.log((Vv - b)/(Vl - b)) - a/b * np.log((Vv*(Vl+b)/(Vl*(Vv +b))))) - pvap\n",
    "    \n",
    "    eq2 = R*T/(Vv - b) - a/(Vv*(Vv + b)) - pvap \n",
    "    \n",
    "    eq3 = R*T/(Vl - b) - a/(Vl*(Vl + b)) - pvap\n",
    "    \n",
    "    return [eq1, eq2, eq3]\n",
    "\n",
    "#Resolveremos com lest_squares, pois desta maneira podermos incluir algumas restrições.\n",
    "#Usaremos as seguintes restrições:\n",
    "# 1 atm < pvap < pc\n",
    "# b < Vl < Vc\n",
    "# Vc < Vv\n",
    "\n",
    "\n",
    "res = least_squares(equations, (11, 100, 1789), bounds=((1, 65, 200 ),(30, 200, 3000 )) )\n",
    "\n",
    "print('Solução com least_squares= ' , +  res.x)"
   ]
  },
  {
   "cell_type": "code",
   "execution_count": null,
   "metadata": {},
   "outputs": [],
   "source": []
  }
 ],
 "metadata": {
  "colab": {
   "name": "Equilíbrio líquido-vapor.ipynb",
   "provenance": []
  },
  "kernelspec": {
   "display_name": "Python 3",
   "language": "python",
   "name": "python3"
  },
  "language_info": {
   "codemirror_mode": {
    "name": "ipython",
    "version": 3
   },
   "file_extension": ".py",
   "mimetype": "text/x-python",
   "name": "python",
   "nbconvert_exporter": "python",
   "pygments_lexer": "ipython3",
   "version": "3.8.10"
  }
 },
 "nbformat": 4,
 "nbformat_minor": 1
}
