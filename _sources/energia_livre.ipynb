{
 "cells": [
  {
   "cell_type": "markdown",
   "id": "48bcd044",
   "metadata": {},
   "source": [
    "# Energia Livre "
   ]
  },
  {
   "cell_type": "code",
   "execution_count": 1,
   "id": "1d73b169",
   "metadata": {},
   "outputs": [],
   "source": [
    "#bibliotecas necessárias para resolução de exercícios\n",
    "import numpy as np\n",
    "from scipy.optimize import curve_fit\n",
    "from scipy.integrate import quad\n",
    "from scipy.integrate import simps\n",
    "from scipy.integrate import trapz\n",
    "import matplotlib.pyplot as plt"
   ]
  },
  {
   "cell_type": "markdown",
   "id": "57db92a6",
   "metadata": {},
   "source": [
    "# Exemplo 1: Cálculo de G durante uma expansão\n",
    "\n",
    "<font size =\"4\"> Determine $\\Delta G$ para compressão de 1,00 mol de uma amostra de $O_2$ a 0ºC, de 1,00 bar até o 10,0 bar a partir dos seguintes dados de p-V:\n",
    "    \n",
    "|   |   |   |   |   |   |   |   |   |\n",
    "|---|---|---|---|---|---|---|---|---|\n",
    "p(bar)|1,000|1,500|2,000|3,000|4,000|6,000|8,000|10,00\n",
    "$V_m$(L/mol)|27,711|15,133|11,344|7,555|5,661|3,767|2,820|2,251\n",
    "\n",
    "    \n",
    "## Solução\n",
    "\n",
    "A dependência de G com a pressão é dado pela seguinte relação: $ \\left ( \\frac{\\partial G_m}{\\partial p} \\right )_T = V_m $\n",
    "    \n",
    "A resolução desta equação diferencial por separação de variáveis leva a integral:\n",
    "    \n",
    "$$ \\Delta G_m = \\int_{p_1} ^{p_2} V_m dp $$\n",
    "\\\n",
    "Logo, o valor de $ \\Delta G_m $ é a área abaixo da curva p-V, que pode ser calculado por algum método de integração numérica.\n",
    "<font>"
   ]
  },
  {
   "cell_type": "code",
   "execution_count": 2,
   "id": "7ff0935e",
   "metadata": {},
   "outputs": [
    {
     "name": "stdout",
     "output_type": "stream",
     "text": [
      "ΔG (J/mol) = -5.785e+03\n"
     ]
    }
   ],
   "source": [
    "p = np.array([1.000,1.500,2.000,3.000,4.000,6.000,8.000,10.00])*1e5 #Pa\n",
    "V = np.array([27.711,15.133,11.344,7.555,5.661,3.767,2.820,2.251])*1e-3 #m³/mol\n",
    "\n",
    "G = simps(p, V)  # integração usando a regra de Simpson\n",
    "\n",
    "print('\\u0394G (J/mol) = ' + format(G, '6.3e'))"
   ]
  },
  {
   "cell_type": "code",
   "execution_count": null,
   "id": "13ef944c",
   "metadata": {},
   "outputs": [],
   "source": []
  }
 ],
 "metadata": {
  "kernelspec": {
   "display_name": "Python 3",
   "language": "python",
   "name": "python3"
  },
  "language_info": {
   "codemirror_mode": {
    "name": "ipython",
    "version": 3
   },
   "file_extension": ".py",
   "mimetype": "text/x-python",
   "name": "python",
   "nbconvert_exporter": "python",
   "pygments_lexer": "ipython3",
   "version": "3.8.10"
  }
 },
 "nbformat": 4,
 "nbformat_minor": 5
}
