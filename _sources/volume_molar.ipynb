{
 "cells": [
  {
   "cell_type": "markdown",
   "metadata": {},
   "source": [
    "# Gandezas parciais molares"
   ]
  },
  {
   "cell_type": "markdown",
   "metadata": {},
   "source": [
    "## Fundamentos Teóricos"
   ]
  },
  {
   "cell_type": "markdown",
   "metadata": {},
   "source": [
    "<font size =4> Uma solução é uma mistura homogênia de dois ou mais componentes. As propriedades termodinâmicas de soluções dependem da composição e da contribuição individual de cada componente as propriedaes da solução. A contribuição de cada componente pode ser descrita em termos de grandezas parciais molares. \n",
    "Por exemplo, o volume de uma solução pode ser escrita como $V = \\sum_{i} n_i V_{m,i}$. Onde $n_i$ é o numero de mols do componente i e $V_{m,i}$ é o volume molar parcial de i. \n",
    "\n",
    "Podemos escrever qualquer propriedade termodinâmica de uma solução, como U, H, S e G, em termos de somatórios similares ao do volume:\n",
    "\n",
    "$$ Y = \\sum_{i} n_i Y_{m,i}$$\n",
    "    \n",
    "Onde Y se refere a prorpiedade termodinâmica da solução e $Y_{m,i}$ é a propriedade molar parcial de cada componente. Logo, determinar a propriedades molares parciais é importante para o cálculo de propriedaes de mistura, como variação do volume ou liberação/abseorção de calor ao se misturar duas substâncias puras.\n",
    "    \n",
    "O exemplo resolvido mostrará como o é possível calcular o volume molar parcial dos componentes de uma mistura binária pelo método da interseção. Para a resolução dos exercíos faremos uso das bibliotecas Numpy e Matplolib. "
   ]
  },
  {
   "cell_type": "code",
   "execution_count": 2,
   "metadata": {},
   "outputs": [],
   "source": [
    "import numpy as np\n",
    "import matplotlib.pyplot as plt\n"
   ]
  },
  {
   "cell_type": "markdown",
   "metadata": {},
   "source": [
    "<font size = 4>A densidade do $H_2 O$ e $CH_3 OH$ a 25ºC e 1 atm são 0,99705 e 0,78706 $g ~cm^{-3}$, respectivamente. Para soluções binárias destes compostos, os seguintes  valores de $\\Delta V_{mix}/n$ vs $x_{H_2 O}$  foram medidos:\n",
    "\n",
    "|   |   |   |   |   |   |   |   |   |   |\n",
    "|---|---|---|---|---|---|---|---|---|---|\n",
    "|V   |-0,34   |-0,60   | -0,80  | -0,94  | -1,01  | -0,98  | -0,85  | -0,61  | -0,31  |\n",
    "|x   |0,1   |0,2   |0,3   | 0,4  |0,5   |0,6   |0,7   |0,8   |0,9   |\n",
    "\n",
    "\\\n",
    "Use o método da interseção para encontrar o volume molar parcial para a composição $x_{H_2 O} = 0,4 $\n",
    "\n",
    "## Solução\n",
    "\n",
    "Inicialmente os valores podem ser completados para valores de $x_{H_2 O} = 0 $  e $x_{H_2 O} = 1 $. Nos extremos os valores de $\\Delta V_{mix}/n = 0$. Posteriormente é preciso armazenar os valores de $x_{H_2 O} = 0,4 $ e $\\Delta V_{mix}/n$ correspondente a esta fração molar. \n",
    "\n",
    "A reta tangente a composição desejada é utilizada usando a equação $y - y_1 = m(x - x_1)$. Onde m é o coeficiente angular da reta, obtido pela derivada primeira na composição desejada, $y_1$ é $\\Delta V_{mix}/n $ quando $x_{H_2 O} = 0,4 $. A partir da equação da reta determinamos $\\Delta V_{mix}/n $ quando $x_{H_2 O} = 0 $  e $x_{H_2 O} = 1 $.\n",
    "    \n",
    "Quando  $x_{H_2 O} = 0 $ temos que $\\Delta V_{mix}/n = V_{m,metOH} - V^* _{m,metOH}$ e quando  $x_{H_2 O} = 1$ temos que $\\Delta V_{mix}/n = V_{m,H_2 O} - V^* _{m,H_2 O} $\n",
    "\n",
    "<font>"
   ]
  },
  {
   "cell_type": "code",
   "execution_count": 3,
   "metadata": {},
   "outputs": [
    {
     "name": "stdout",
     "output_type": "stream",
     "text": [
      "Extrapolação quando x = 1:  [-1.57] cm³/mol\n",
      "Extrapolação quando x = 0:  [-0.52] cm³/mol\n"
     ]
    }
   ],
   "source": [
    "x = np.array([0,0.1,0.2,0.3,0.4,0.5,0.6,0.7,0.8,0.9,1])\n",
    "V = np.array([0,-0.34,-0.6,-0.8,-0.94,-1.01,-0.98,-0.85,-0.61,-0.31,0])\n",
    "\n",
    "x1 = 0.4 \n",
    "\n",
    "#Encontrando o índice referente ao valor 0,4\n",
    "Vi = np.where(x == x1)\n",
    "\n",
    "#Encontrando o valor de volume que corresponde a x = 0,4\n",
    "y1 = V[Vi]\n",
    "\n",
    "# Fazendo a derivada numérica e guardando o valor referente a x = 0,4 na variável m\n",
    "derivada = np.gradient(V,x)\n",
    "\n",
    "m =  derivada[Vi]\n",
    "\n",
    "#Definindo a equação da reta\n",
    "def y(x):\n",
    "    b = -m*x1 + y1\n",
    "    \n",
    "    return m*x + b\n",
    "\n",
    "\n",
    "print('Extrapolação quando x = 1: ', y(1), 'cm³/mol')\n",
    "print('Extrapolação quando x = 0: ', y(0), 'cm³/mol')\n"
   ]
  },
  {
   "cell_type": "markdown",
   "metadata": {},
   "source": [
    "<font size =4> Vamos construir o gráfico contendo os dados do problema e a reta tangente para verificar se os resultados calculados estão coerentes.\n",
    "<font>"
   ]
  },
  {
   "cell_type": "code",
   "execution_count": 4,
   "metadata": {},
   "outputs": [
    {
     "data": {
      "image/png": "[encoded data removed]",
      "text/plain": [
       "<Figure size 576x432 with 1 Axes>"
      ]
     },
     "metadata": {
      "needs_background": "light"
     },
     "output_type": "display_data"
    }
   ],
   "source": [
    "#Instruções para cntrole do tamanho do gráfico\n",
    "plt.rcParams.update({'font.size': 14}) # estes dois parâmetros precisam aparecer antes da definição do plot\n",
    "plt.figure(figsize=(8,6))\n",
    "\n",
    "\n",
    "plt.plot(x, V,'*') #Dados experimentais do problema\n",
    "plt.plot(x,y(x),label='tangente')#Derivada numérica calculada\n",
    "\n",
    "\n",
    "\n",
    "plt.legend(loc='best')\n",
    "plt.xlabel('$x_{H_2 O}$')\n",
    "plt.ylabel('$\\Delta_{mix}V/n$')\n",
    "\n",
    "plt.show()"
   ]
  },
  {
   "cell_type": "markdown",
   "metadata": {},
   "source": [
    "<font size = 4> Note que a reta tangente obtida passa pelo ponto $x_{H_2 O} = 0,4 $. De posse dos valores calculados, o próximo passo é converter os valores de densidade dos líquidos puros em  $V^* _{m,i} $."
   ]
  },
  {
   "cell_type": "code",
   "execution_count": 5,
   "metadata": {},
   "outputs": [
    {
     "name": "stdout",
     "output_type": "stream",
     "text": [
      "Volume parcial da água= [16.48325711] cm³/mol\n",
      "Volume parcial do metanol= [40.13763728] cm³/mol\n"
     ]
    }
   ],
   "source": [
    "Mm_a = 18 # g/mol\n",
    "Mm_m = 32 # g/mol\n",
    "\n",
    "d_a =  0.99705 # g/cm³\n",
    "d_m =  0.78706 # g/cm³\n",
    "\n",
    "#conversão da densidade em volume molar \n",
    "Va_puro = Mm_a/d_a # cm³/mol\n",
    "Vm_puro = Mm_m/d_m # cm³/mol\n",
    "\n",
    "# cálculo do volume molar parcial de cada líquido\n",
    "Va = y(1) + Va_puro\n",
    "Vm = y(0) + Vm_puro\n",
    "\n",
    "print('Volume parcial da água=',Va, 'cm³/mol')\n",
    "print('Volume parcial do metanol=',Vm, 'cm³/mol')"
   ]
  },
  {
   "cell_type": "markdown",
   "metadata": {},
   "source": [
    "<font size = 4> Uma forma alternativa de resolver este problema é ajustando uma função aos dados fornecidos pelo problema e calculando a derivada analítica da função ajustada. A reta tangente a composição desejada, $x_1$, será obtida usando a mesma expressão anterior, mas considerando $y_1 = f(x)$. O leitor é encorajado a tentar resolver o exercício anterior desta maneira para avaliar os prós e contras das duas formas de resolução. <font>"
   ]
  }
 ],
 "metadata": {
  "kernelspec": {
   "display_name": "Python 3",
   "language": "python",
   "name": "python3"
  },
  "language_info": {
   "codemirror_mode": {
    "name": "ipython",
    "version": 3
   },
   "file_extension": ".py",
   "mimetype": "text/x-python",
   "name": "python",
   "nbconvert_exporter": "python",
   "pygments_lexer": "ipython3",
   "version": "3.8.10"
  }
 },
 "nbformat": 4,
 "nbformat_minor": 2
}
