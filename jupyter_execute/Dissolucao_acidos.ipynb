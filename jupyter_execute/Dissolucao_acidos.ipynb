{
 "cells": [
  {
   "cell_type": "markdown",
   "metadata": {},
   "source": [
    "# Equilíbrio de fases em misturas\n",
    "## Dissolução de gases ácidos em água"
   ]
  },
  {
   "cell_type": "code",
   "execution_count": 1,
   "metadata": {},
   "outputs": [],
   "source": [
    "#módulos para resolução dos exercícios:\n",
    "import numpy as np\n",
    "from scipy.optimize import fsolve"
   ]
  },
  {
   "cell_type": "markdown",
   "metadata": {},
   "source": [
    "<font size=\"4\"> A dissolução de espécies gasosas em solução pode ser descrita a partir do conhecimento da constante da Lei de Henry de cada substância. Uma aplicação típica da Lei de Henry é estudar a dissolução de gases encontrados na atmosfera em góticulas do aerossol atmosférico ou em corpos hídricos. Por exemplo, é possível estimar o pH médio do aerossol atmosférico (e consequentemente  de nuvens) se soubermos a concentração de $CO_2$ na atmosfera. Sabendo que a concentração média de $CO_2$ na atmosfera é 360 ppm (mol/mol) e a constante da Lei de Henry para dissolução em água é $3,4 \\times 10^{-2} ~mol~ L^{-1}~ atm^{-1}$, estime o pH médio da chuva considerando dois casos: a) Considerando que apenas o íon bicarbonato, oriundo da dissolução do $CO_2$, afeta o pH; b) Considerando que os íons carbonato e bicarbonato são importantes para determinar o pH da chuva. </font> "
   ]
  },
  {
   "cell_type": "markdown",
   "metadata": {},
   "source": [
    "## Solução\n",
    "\n",
    "<font size=\"4\"> Os três equilíbrios que precisam ser estudados são:\n",
    "$$ CO_{2(g)} \\rightarrow CO_{2(aq)} ~~~ K_H = \\frac{[CO_2]}{pCO_2} = 3.4 \\times 10^{-2}$$\n",
    "$$ CO_{2(aq)} \\rightarrow HCO_{3(aq)} ^{-} + H_(aq) ^{+} ~~~ K_{a1} = \\frac{[HCO_3 ^{-}][H^{+}]}{[CO_2]} = 4.5 \\times 10^{-7}$$\n",
    "$$ HCO_{3(aq)} \\rightarrow CO_{3(aq)} ^{2-} + H_(aq) ^{+} ~~~ K_{a2} = \\frac{[CO_3 ^{2-}][H^{+}]}{[HCO_3 ^{-}]} = 7.0 \\times 10^{-11}$$\n",
    "\n",
    "Os valores de Ka foram obtidos na literatura. Sistema a ser resolvido assumindo inicialmente que o segundo equilíbrio pode ser negligenciado\n",
    "\n",
    "$$ K_H \\times pCO_2 - [CO_2] = 0 $$\n",
    "$$ K_{a1} \\times [CO_2] - [HCO_3 ^{-}][H^{+}] = 0 $$\n",
    "$$ [HCO_3 ^{-}] - [H^{+}] = 0 $$ \n",
    "\n",
    "A condição de eletroneutralidade foi usada para fechar o sistema de equações </font> "
   ]
  },
  {
   "cell_type": "code",
   "execution_count": 2,
   "metadata": {},
   "outputs": [
    {
     "name": "stdout",
     "output_type": "stream",
     "text": [
      "Solução com fsolve (mol/L)=  2.34691e-06\n",
      "pH =  5.629503034207387\n"
     ]
    }
   ],
   "source": [
    "#Definição das variáveis\n",
    "\n",
    "Kh = 3.4e-2 # mol/L atm\n",
    "Ka1 = 4.5e-7 \n",
    "Ka2 = 7.0e-11\n",
    "\n",
    "\n",
    "# pressão de CO2 é obtida a partir da razão de mistura informada. Considerado que o sistema está a 1 atm, \n",
    "# 360 ppm de CO2 equivalem a 360E-6 atm de CO2 na atmosfera.\n",
    "pCO2 = 360e-6 # atm (pressão parcial de CO2 no vapor)\n",
    "\n",
    "#definição do sistema de equações\n",
    "\n",
    "def equations(vars):\n",
    "    CO2, HCO3, H = vars\n",
    "    \n",
    "    eq1 = Kh*pCO2 -CO2 \n",
    "    eq2 = Ka1*CO2 - HCO3*H\n",
    "    eq3 = HCO3 - H\n",
    "    \n",
    "    return [eq1, eq2, eq3]\n",
    "\n",
    "# resolução do sistema com a estimativa inicial das concetrações em mol/L\n",
    "CO2, HCO3, H =  fsolve(equations, (1e-2, 1e-3,1e-3))\n",
    "\n",
    "print('Solução com fsolve (mol/L)= ' + format(H , ' 6.5e'))\n",
    "\n",
    "pH = -np.log10(H)\n",
    "print('pH = ', pH)"
   ]
  },
  {
   "cell_type": "code",
   "execution_count": 3,
   "metadata": {},
   "outputs": [
    {
     "name": "stdout",
     "output_type": "stream",
     "text": [
      "[H+] (mol/L)=  2.34695e-06\n",
      "[CO3] (mol/L)=  6.99979e-11\n",
      "pH =  5.629496557676731\n"
     ]
    }
   ],
   "source": [
    "#Resolução da parte b incluindo o terceiro equilíbrio\n",
    "# Note que todas variáveis foram definidas na primeira célula\n",
    "\n",
    "def equations(vars):\n",
    "    CO2, HCO3, H, CO3 = vars\n",
    "    \n",
    "    eq1 = Kh*pCO2 -CO2 \n",
    "    eq2 = Ka1*CO2 - HCO3*H\n",
    "    eq3 = Ka2*HCO3 - CO3*H\n",
    "    eq4 = HCO3 + CO3 - H\n",
    "    \n",
    "    return [eq1, eq2, eq3, eq4]\n",
    "\n",
    "CO2, HCO3, H, CO3 =  fsolve(equations, (1e-2, 1e-6,1e-6, 1e-10 ))\n",
    "\n",
    "\n",
    "\n",
    "\n",
    "print('[H+] (mol/L)= '  + format(H , ' 6.5e'))\n",
    "\n",
    "#Podemos imprimir a concentração de carbonato para verificar que o terceiro equilíbrio é desprezível\n",
    "\n",
    "print('[CO3] (mol/L)= '  + format(CO3 , ' 6.5e'))\n",
    "\n",
    "pH = -np.log10(H)\n",
    "print('pH = ', pH)"
   ]
  },
  {
   "cell_type": "markdown",
   "metadata": {},
   "source": [
    "Podemos verificar que o pH em ambos os casos é praticamente igual e que a concentração de carbonato é muito baixa, confirmando que o terceiro equilíbrio pode ser desprezado."
   ]
  },
  {
   "cell_type": "markdown",
   "metadata": {},
   "source": [
    "<font size=\"4\"> Doyle e colaboradores (Environmental Science & Technology, Volume 13, Number 11, November 1979, p 1416) determinaram a concentração de $HNO_3$ na atmosfera da cidade de Riverside, Califórnia, usando espectrometria na região do infravermelho. Os valores máximos de $HNO_3$ obtidos em cada dia estão apresentados na tabela abaixo.\n",
    "\n",
    "|   |   |   |   |\n",
    "|---|---|---|---|\n",
    "|Dia | 21/07/1977 | 25/07/1977 | 11/08/1977\n",
    "|$HNO_3$ (ppb (mol/mol) | 10 | 20 | 13\n",
    "\n",
    "Sabendo que a constante da Lei de Henry para solubilização do $HNO_3$ em água é $2,1 \\times 10^5 mol ~L^{-1} ~atm^{-1}$ e que o Ka deste ácido é 20, repita o cálculo anterior e calcule o pH da chuva na presença destas concentração de ácido nítrico. DICA: Não podemos disconsiderar a contribuição do $CO_2$. </font>"
   ]
  },
  {
   "cell_type": "code",
   "execution_count": null,
   "metadata": {},
   "outputs": [],
   "source": []
  },
  {
   "cell_type": "code",
   "execution_count": null,
   "metadata": {},
   "outputs": [],
   "source": []
  },
  {
   "cell_type": "code",
   "execution_count": 4,
   "metadata": {},
   "outputs": [
    {
     "name": "stdout",
     "output_type": "stream",
     "text": [
      "Solução com fsolve=  1.22400e-05 2.04939e-01\n",
      "concentração de nitrato= 0.2049390153057587 mol/l\n",
      "pH =  0.688375354772575\n"
     ]
    }
   ],
   "source": [
    "#teste\n",
    "\n",
    "Ka = 20\n",
    "Kh_hno3 = 2.1e5\n",
    "pHNO3 = 10e-9\n",
    "\n",
    "\n",
    "def equations(vars):\n",
    "    CO2, HCO3, H, HNO3, NO3 = vars\n",
    "    eq1 = Kh*pCO2 -CO2 \n",
    "    eq2 = Ka1*CO2 - HCO3*H\n",
    "    eq3 = Ka*HNO3 - NO3*H\n",
    "    eq4 = Kh_hno3*pHNO3 - HNO3\n",
    "    eq5 = HCO3 + NO3 - H\n",
    "    return [eq1, eq2, eq3, eq4, eq5]\n",
    "\n",
    "CO2, HCO3, H, HNO3,NO3 =  fsolve(equations, (1e-2, 1e-6,1e-3, 1e-20,1e-3 ))\n",
    "print('Solução com fsolve= ' +  format(CO2 , ' 6.5e') + format(H , ' 6.5e'))\n",
    "print('concentração de nitrato=', NO3, 'mol/l' )\n",
    "\n",
    "pH = -np.log10(H)\n",
    "print('pH = ', pH)"
   ]
  },
  {
   "cell_type": "code",
   "execution_count": null,
   "metadata": {},
   "outputs": [],
   "source": []
  }
 ],
 "metadata": {
  "kernelspec": {
   "display_name": "Python 3",
   "language": "python",
   "name": "python3"
  },
  "language_info": {
   "codemirror_mode": {
    "name": "ipython",
    "version": 3
   },
   "file_extension": ".py",
   "mimetype": "text/x-python",
   "name": "python",
   "nbconvert_exporter": "python",
   "pygments_lexer": "ipython3",
   "version": "3.8.10"
  }
 },
 "nbformat": 4,
 "nbformat_minor": 4
}