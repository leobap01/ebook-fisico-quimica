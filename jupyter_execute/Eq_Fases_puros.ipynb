{
 "cells": [
  {
   "cell_type": "markdown",
   "metadata": {
    "id": "G4pbAw9tT-_P"
   },
   "source": [
    "# Equilíbrio de fases envolvendo substâncias puras."
   ]
  },
  {
   "cell_type": "markdown",
   "metadata": {
    "id": "RFLXl-RdQZ7X"
   },
   "source": [
    "A estabilidade das fases pode ser descrita pela entropia de cada fase: $ ( \\frac{\\partial μ}{\\partial T} )_p = -S_m   $.\n",
    "Como $S_{m,sol} < S_{m,l} << S_{m,g} $, obtemos o seguinte gráfico:\n",
    "\n",
    "<img src=\"eq-fases-ebook.png\" alt=\"eq_fase\"  width=\"500px\">"
   ]
  },
  {
   "cell_type": "code",
   "execution_count": null,
   "metadata": {},
   "outputs": [],
   "source": []
  },
  {
   "cell_type": "markdown",
   "metadata": {
    "id": "kmv4I7lISEgm"
   },
   "source": [
    "<img src=\"diagrama-fase-co2.jpeg\"  style=\"width:500px;heigth:500px\"/> "
   ]
  },
  {
   "cell_type": "markdown",
   "metadata": {
    "id": "hTWQ-S_HSR3t"
   },
   "source": [
    "O coeficiente angular da curva de p versus T, $ \\frac{dp}{dT} $, na região bifásica pode ser calculado pela equação de Clapeyron  $ \\frac{dp}{dT} $ =  $ \\frac{\\Delta S}{\\Delta V} $. Para mudanças de estado reversíveis podemos fazer $\\Delta S = \\frac{\\Delta H}{T} $ . \n",
    "\n",
    "A equação de Clayperon pode ser resolvida para as três regiões bifásicas: sólido-líquido, sólido-vapor, e líquido-vapor. \n",
    "A integração na região de equilíbrio sólido-líquido, considerando um pequeno intervalo de temperaturas e $ \\Delta _{fus}H $ é constante neste intervalo, nos leva a equação:\n",
    "$$p_2 – p_1 = \\frac{\\Delta _{fus}H}{\\Delta_{fus} V}  ln(\\frac{T_2}{T_1})$$\n",
    "\n",
    "A integração nas regiões de sólido-vapor e líquido-vapor retornam equações similares, sendo o único termo diferente as entalpias de fusão e sublimação:\n",
    "\n",
    "$ ln(\\frac{p_2}{p_1}) = \\frac{\\Delta _{vap}H}{R} (\\frac{1}{T_2} - \\frac{1}{T_1}) $ líquido-vapor\n",
    "\n",
    "$ ln(\\frac{p_2}{p_1}) = \\frac{\\Delta _{sub}H}{R} (\\frac{1}{T_2} - \\frac{1}{T_1}) $ sólido-vapor\n"
   ]
  },
  {
   "cell_type": "code",
   "execution_count": 1,
   "metadata": {
    "id": "t43skNl0Vcyw"
   },
   "outputs": [],
   "source": [
    "# Tudo começa com a importação dos módulos necessários para fazer as contas\n",
    "import numpy as np\n",
    "import matplotlib.pyplot as plt"
   ]
  },
  {
   "cell_type": "markdown",
   "metadata": {
    "id": "bwrS2o8qWK4k"
   },
   "source": [
    "# Exercício 1) \n",
    "Use os dados abaixo de temperatura-pressão de vapor para determinar $\\Delta_{sub} Hº$, $\\Delta_{vap} Hº$ e $\\Delta_{fus} Hº$ para a água a 0ºC:\n",
    "\n",
    "Gelo\n",
    "\n",
    "|   |   |   |   |   |   |   |\n",
    "|---|---|---|---|---|---|---|\n",
    "|p/torr | 3.880 | 4.045 | 4.217 | 4.395 | 4.579\n",
    "|T/ºC | -2.0 | -1.5 | -1.0 | -0.5 | 0.0\n",
    "\n",
    "Água\n",
    "\n",
    "|   |   |   |   |   |   |   |\n",
    "|---|---|---|---|---|---|---|\n",
    "|p/torr | 4.579 | 4.750 | 4.926 | 5.107 | 5.294\n",
    "|T/ºC | 0.0 | 0.5 | 1.0 | 1.5 | 2.0"
   ]
  },
  {
   "cell_type": "markdown",
   "metadata": {
    "id": "a7IXD1xzYDyM"
   },
   "source": [
    "### Solução:\n",
    "De acordo com a integração  da equação de Clayperon ($ \\ln(\\frac{p_2}{p_1}) = - \\frac{\\Delta_{vap} Hº}{R} \\times (\\frac{1}{T_2}-\\frac{1}{T_1})$, um gráfico de ln(P) contra 1/T deve ser linear e apresentar coeficiente angular igual a - $\\frac{\\Delta Hº}{R}$.\n",
    "Resolvendo inicialmente para o gelo:"
   ]
  },
  {
   "cell_type": "code",
   "execution_count": 2,
   "metadata": {
    "colab": {
     "base_uri": "https://localhost:8080/"
    },
    "id": "OPna3sQ4Yqsj",
    "outputId": "5fa26294-765c-4838-ea26-a1bcf901a5ff"
   },
   "outputs": [
    {
     "name": "stdout",
     "output_type": "stream",
     "text": [
      "coeficiente angular = -6129.91617\n",
      "coeficiente linear =  23.97549\n",
      "entalpia de sublimação (J/*mol)=  50964.12304\n"
     ]
    }
   ],
   "source": [
    "# Definindo os vetores que serão plotados\n",
    "# Resolvendo para o gelo\n",
    "\n",
    "p = np.array([  3.880 , 4.045 , 4.217 , 4.395 , 4.579])\n",
    "t_celsius = np.array([ -2.0 , -1.5 , -1.0 , -0.5 , 0.0]) \n",
    "T = 273 + t_celsius\n",
    "\n",
    "lnP = np.log(p)\n",
    "iT = 1/T\n",
    "\n",
    "#regressão linear\n",
    "deg = 1\n",
    "z = np.polyfit(iT, lnP, deg)\n",
    "y = np.poly1d(z)\n",
    "\n",
    "DH_sub = -8.314*z[0] # calculando deltaH de sublimação\n",
    "\n",
    "print('coeficiente angular = ' + format(z[0] , ' 6.5f'))  \n",
    "print('coeficiente linear = ' + format(z[1] , ' 6.5f'))  \n",
    "print('entalpia de sublimação (J/*mol)= ' + format(DH_sub , ' 6.5f'))  "
   ]
  },
  {
   "cell_type": "markdown",
   "metadata": {
    "id": "Y6YbVm3xX6yf"
   },
   "source": [
    "Faremos a construção do gráfico de p versus T para fins didáticos. Desta forma fica mais fácil visualizar que a equação obtida descreve uma reta de ln(p) em fundção de 1/T."
   ]
  },
  {
   "cell_type": "code",
   "execution_count": 3,
   "metadata": {
    "colab": {
     "base_uri": "https://localhost:8080/",
     "height": 305
    },
    "id": "gVu_UB-vb4P3",
    "outputId": "ebf1d969-079a-4418-8f2b-d6f8a1a56a23"
   },
   "outputs": [
    {
     "data": {
      "text/plain": [
       "<function matplotlib.pyplot.show(*args, **kw)>"
      ]
     },
     "execution_count": 3,
     "metadata": {},
     "output_type": "execute_result"
    },
    {
     "data": {
      "image/png": "[encoded data removed]",
      "text/plain": [
       "<Figure size 432x288 with 1 Axes>"
      ]
     },
     "metadata": {
      "filenames": {
       "image/png": "/home/leobap/Insync/leobap@fat.uerj.br/Google Drive/Link para Documentos/Fis-Qui/Python Notebooks/colab/modelo-ebook/mynewbook/2023-2/_build/jupyter_execute/Eq_Fases_puros_10_1.png"
      },
      "needs_background": "light"
     },
     "output_type": "display_data"
    }
   ],
   "source": [
    "plt.plot(iT,lnP,'*')\n",
    "plt.plot(iT,y(iT), color='blue', linewidth=1)\n",
    "plt.xlabel(r'$\\frac{1}{T} (K^{-1} )$')\n",
    "plt.ylabel('ln(P)(torr)')\n",
    "plt.show"
   ]
  },
  {
   "cell_type": "code",
   "execution_count": 4,
   "metadata": {
    "colab": {
     "base_uri": "https://localhost:8080/"
    },
    "id": "NGN5e9U1aaiP",
    "outputId": "f64b3a02-f98d-4571-a65f-da586075846b"
   },
   "outputs": [
    {
     "name": "stdout",
     "output_type": "stream",
     "text": [
      "coeficiente angular = -5445.28900\n",
      "coeficiente linear =  21.46772\n",
      "entalpia de vaporização (J/*mol)=  45272.13274\n"
     ]
    }
   ],
   "source": [
    "# Resolvendo para água \n",
    "#Definindo os vetores que serão plotados\n",
    "\n",
    "p = np.array([  4.579 , 4.750 , 4.926 , 5.107 , 5.294])\n",
    "t_celsius = np.array([ 0.0 , 0.5 , 1.0 , 1.5 , 2.0]) \n",
    "T = 273 + t_celsius\n",
    "\n",
    "lnP = np.log(p)\n",
    "iT = 1/T\n",
    "\n",
    "#regressão linear\n",
    "deg = 1\n",
    "z2 = np.polyfit(iT, lnP, deg)\n",
    "y1 = np.poly1d(z2)\n",
    "DH_vap = -8.314*z2[0] # calculando deltaH de vaporização\n",
    "\n",
    "print('coeficiente angular = ' + format(z2[0] , ' 6.5f'))  \n",
    "print('coeficiente linear = ' + format(z2[1] , ' 6.5f'))  \n",
    "print('entalpia de vaporização (J/*mol)= ' + format(DH_vap , ' 6.5f'))  "
   ]
  },
  {
   "cell_type": "markdown",
   "metadata": {
    "id": "7qIewBOlZmvA"
   },
   "source": [
    "Novamente faremos a construção do gráfico de p versus T para fins didáticos. Desta forma fica mais fácil visualizar que a equação obtida descreve uma reta de ln(p) em fundção de 1/T."
   ]
  },
  {
   "cell_type": "code",
   "execution_count": 5,
   "metadata": {
    "colab": {
     "base_uri": "https://localhost:8080/",
     "height": 305
    },
    "id": "h9ucZ5Qgbqep",
    "outputId": "a5966d77-db29-4a1d-b611-9fb564950bf8"
   },
   "outputs": [
    {
     "data": {
      "text/plain": [
       "<function matplotlib.pyplot.show(*args, **kw)>"
      ]
     },
     "execution_count": 5,
     "metadata": {},
     "output_type": "execute_result"
    },
    {
     "data": {
      "image/png": "[encoded data removed]",
      "text/plain": [
       "<Figure size 432x288 with 1 Axes>"
      ]
     },
     "metadata": {
      "filenames": {
       "image/png": "/home/leobap/Insync/leobap@fat.uerj.br/Google Drive/Link para Documentos/Fis-Qui/Python Notebooks/colab/modelo-ebook/mynewbook/2023-2/_build/jupyter_execute/Eq_Fases_puros_13_1.png"
      },
      "needs_background": "light"
     },
     "output_type": "display_data"
    }
   ],
   "source": [
    "plt.plot(iT,lnP,'*')\n",
    "plt.plot(iT,y1(iT), color='green', linewidth=1)\n",
    "plt.xlabel(r'$\\frac{1}{T} (K^{-1})$')\n",
    "plt.ylabel('ln(P)(torr)')\n",
    "plt.show"
   ]
  },
  {
   "cell_type": "markdown",
   "metadata": {
    "id": "JIWAoHfyjKqy"
   },
   "source": [
    "Sabendo que: $ \\Delta_{sub} Hº = \\Delta_{vap} Hº + \\Delta_{fus} Hº$ "
   ]
  },
  {
   "cell_type": "code",
   "execution_count": 6,
   "metadata": {
    "colab": {
     "base_uri": "https://localhost:8080/"
    },
    "id": "q5G4kcDsjeyg",
    "outputId": "f8976081-7d69-4a2e-881c-b28ba368f4f9"
   },
   "outputs": [
    {
     "name": "stdout",
     "output_type": "stream",
     "text": [
      "entalpia de fusão (J/mol)=  5691.99029\n"
     ]
    }
   ],
   "source": [
    "DH_fus = DH_sub - DH_vap\n",
    "print('entalpia de fusão (J/mol)= ' + format(DH_fus , ' 6.5f'))  "
   ]
  },
  {
   "cell_type": "markdown",
   "metadata": {
    "id": "5u_CQhOQaZYO"
   },
   "source": [
    "A partir das entalpias obtidas, vamos construiir um gráfico onde as equações apra o equilíbrio líquido-vapor e sólido-vapor são plotadas em conjunto. O ponto onde as curvas se encontram é a condição de T e p de equilíbrio de fases. Em temperaturas abaixo de 273 K a curva do sólido apresenta menor pressão de vapor, logo, este estado é mais estável nesta faixa de temperaturas. Acima de 273 K, a curva do líquido é mais estável, indicando que o líquido é mais estável em temperaturas superiores a 273 K."
   ]
  },
  {
   "cell_type": "code",
   "execution_count": 7,
   "metadata": {
    "colab": {
     "base_uri": "https://localhost:8080/",
     "height": 296
    },
    "id": "PSJB23fZmWj7",
    "outputId": "da809c27-0e7f-4f0e-f1cc-e042e05d1147"
   },
   "outputs": [
    {
     "data": {
      "text/plain": [
       "<function matplotlib.pyplot.show(*args, **kw)>"
      ]
     },
     "execution_count": 7,
     "metadata": {},
     "output_type": "execute_result"
    },
    {
     "data": {
      "image/png": "[encoded data removed]",
      "text/plain": [
       "<Figure size 432x288 with 1 Axes>"
      ]
     },
     "metadata": {
      "filenames": {
       "image/png": "/home/leobap/Insync/leobap@fat.uerj.br/Google Drive/Link para Documentos/Fis-Qui/Python Notebooks/colab/modelo-ebook/mynewbook/2023-2/_build/jupyter_execute/Eq_Fases_puros_17_1.png"
      },
      "needs_background": "light"
     },
     "output_type": "display_data"
    }
   ],
   "source": [
    "#Criando um intervalo de temperaturas que se inicia em 270 K e termina em 276 K.\n",
    "#O intervalo de valores é 0.5K. \n",
    "\n",
    "T = np.arange(270,276,0.5) #criando um intervalo de temperaturas\n",
    "iT = 1/T\n",
    "\n",
    "#Gráfico do líquido-vapor\n",
    "plt.plot(T,y1(iT), color='red', linewidth=1,label='líquido')\n",
    "\n",
    "#Gráfico do sólido-vapor\n",
    "plt.plot(T,y(iT), color='green', linewidth=1,label='sólido')\n",
    "\n",
    "plt.xlabel('Temperatura (/K)')\n",
    "plt.ylabel('ln(P)(torr)')\n",
    "plt.legend(handlelength=4,loc='best')\n",
    "plt.show"
   ]
  },
  {
   "cell_type": "code",
   "execution_count": null,
   "metadata": {
    "id": "uPOTO4h10Nay"
   },
   "outputs": [],
   "source": []
  }
 ],
 "metadata": {
  "colab": {
   "name": "Exercícios-Fis-Qui2-Eq-Fases.ipynb",
   "provenance": []
  },
  "kernelspec": {
   "display_name": "Python 3",
   "language": "python",
   "name": "python3"
  },
  "language_info": {
   "codemirror_mode": {
    "name": "ipython",
    "version": 3
   },
   "file_extension": ".py",
   "mimetype": "text/x-python",
   "name": "python",
   "nbconvert_exporter": "python",
   "pygments_lexer": "ipython3",
   "version": "3.8.10"
  }
 },
 "nbformat": 4,
 "nbformat_minor": 1
}