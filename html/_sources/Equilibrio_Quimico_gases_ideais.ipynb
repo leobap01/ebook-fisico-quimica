{
 "cells": [
  {
   "cell_type": "markdown",
   "metadata": {},
   "source": [
    "# Equilíbrio Químico Entre Gases Ideais"
   ]
  },
  {
   "cell_type": "markdown",
   "metadata": {},
   "source": [
    "## Fundamentos teóricos\n",
    "\n",
    "<font size=\"4\">  Considere a reação $aA + bB \\rightarrow cC + dD$ que ocorre em fase gasosa. Podemos escrever a energia livre de reação em função do quociente reacional\n",
    "\n",
    "$\\Delta G = \\Delta Gº -RT lnQ$\n",
    "\n",
    "Q é denominado quociente reacional e pode ser escrito como: $ Q = \\frac{p_C ^c p_D ^d}{p_A ^a p_B ^b}$\n",
    "    \n",
    "    \n",
    "No equilíbrio a equação se reduz a $\\Delta Gº = -RT lnK$, onde $K$ é a constante de equilíbrio da reação e é expressa da mesma maneira que o quociente reacional. No entanto, são usadas as pressões parciais de equilíbrio para o cálculo de $K$. Esta constante pode ser escrita em função das frações molares e concentrações molares da seguinte forma:\n",
    "\n",
    "$K = K_x p^{\\Delta \\nu}$ onde $K_x = \\frac{x_C ^c x_D ^d}{x_A ^a x_B ^b}$.  \n",
    "\n",
    "$K = K_c (RT)^{\\Delta \\nu}$ onde $K_c = \\frac{[C] ^c [D] ^d}{[A] ^a [B] ^b}$. \n",
    "\n",
    "A constante de equilíbrio depende de T segundo a equação de van’t Hoff: \n",
    "\n",
    "$ \\frac{\\partial lnK}{\\partial 1/T} = \\frac{\\Delta_r Hº}{R T^2} $\n",
    "    \n",
    "Se assumirmos que $\\Delta_r Hº$ é independente da temperatura, a equação diferencial pode ser resolvida resultando em:\n",
    "\n",
    "$ ln \\frac{K_2}{K_1} = -\\frac{\\Delta_r Hº}{R} \\left (\\frac{1}{T_2} – \\frac{1}{T_1} \\right )$ <font > "
   ]
  },
  {
   "cell_type": "markdown",
   "metadata": {},
   "source": [
    "Para a resolução dos exercíos faremos uso das bibliotecas Numpy e Matplolib."
   ]
  },
  {
   "cell_type": "code",
   "execution_count": 1,
   "metadata": {
    "colab": {},
    "colab_type": "code",
    "executionInfo": {
     "elapsed": 729,
     "status": "ok",
     "timestamp": 1599918159595,
     "user": {
      "displayName": "Leonardo Baptista",
      "photoUrl": "https://lh3.googleusercontent.com/a-/AOh14GjbU4VJykcNXBUbYVc_hHe6AtHG07aImWtddXbw=s64",
      "userId": "16746628627498894795"
     },
     "user_tz": 180
    },
    "id": "jgcPQCpAe8FA"
   },
   "outputs": [],
   "source": [
    "#módulos para resolução dos exercícios:\n",
    "import numpy as np\n",
    "from scipy.optimize import fsolve"
   ]
  },
  {
   "cell_type": "markdown",
   "metadata": {
    "colab_type": "text",
    "id": "7R_dbPnIe8FK"
   },
   "source": [
    "## Exemplo 1: Cálculo da constante de equilíbrio e composição de equilíbrio"
   ]
  },
  {
   "cell_type": "markdown",
   "metadata": {
    "colab_type": "text",
    "id": "CrgrB9B7e8FM"
   },
   "source": [
    "<font size=\"4\"> a) Use tabelas de dados termodinâmicos para calcular a constante de equilíbrio da reação $ N_2(g) + O_2(g) \\rightarrow 2NO(g) $ em T = 298.15 K e 1 bar (0.987 atm). Calcule a concentração de equilíbrio de NO no ar atmosférico em b)  T = 298.15 K e 1 atm e c) T = 2000 K e 1 atm. <font> "
   ]
  },
  {
   "cell_type": "markdown",
   "metadata": {
    "colab_type": "text",
    "id": "B1Cjw58ve8FQ"
   },
   "source": [
    "##  Solução:\n",
    "<font size=\"4\"> Em primeiro lugar deve ser calculado a energia livre de reação. Em seguida a relação $ K = -RTln(\\Delta_r G^0)$ será usada para o cálculo da constante de equilíbrio a 298K. Para este tipo de reação, a expressão da constante de equilíbrio em termos das pressões parciais é igual a constante em termos de frações molares. Assim podemos assumir a composição aproximada do ar como $N_2$ = 0.78 e $O_2$ = 0.21 e que devido a magnitude da constante de equilíbrio estes valores não se alteram apreciavelmente. Será usada a relação $ K = K_x \\times p^{\\Delta \\nu}$ para resolver o exercício.\n",
    "    \n",
    "$$ K = \\frac{x_{NO_2} ^2}{x_{N_2} x_{O_2}} $$ \\\n",
    "\n",
    "\n",
    "$$ x_{NO_2} = \\sqrt{x_{N_2} x_{O_2} K}$$ \n",
    "    \n",
    "    \n",
    "Por último usamos a equação $ ln(\\frac{K_2}{K_1}) = -\\frac{\\Delta H^0}{R} \\times (\\frac{1}{T_2}-\\frac{1}{T_1}) $ para obter a constante a 2000 K e estimar a concentração de equilíbrio de NO.  <font>"
   ]
  },
  {
   "cell_type": "code",
   "execution_count": 3,
   "metadata": {
    "colab": {
     "base_uri": "https://localhost:8080/",
     "height": 52
    },
    "colab_type": "code",
    "executionInfo": {
     "elapsed": 717,
     "status": "ok",
     "timestamp": 1599918431248,
     "user": {
      "displayName": "Leonardo Baptista",
      "photoUrl": "https://lh3.googleusercontent.com/a-/AOh14GjbU4VJykcNXBUbYVc_hHe6AtHG07aImWtddXbw=s64",
      "userId": "16746628627498894795"
     },
     "user_tz": 180
    },
    "id": "t1i-SB3Ve8FR",
    "outputId": "d29e6cea-960c-47c7-8181-1473bffcf483"
   },
   "outputs": [
    {
     "name": "stdout",
     "output_type": "stream",
     "text": [
      " Constante de equilíbrio a 298.15 K é \t\t\t 4.5e-31\n",
      " A fração molar de NO no equilíbrio a 298K é \t\t 2.7e-16\n"
     ]
    }
   ],
   "source": [
    "#Definição das variáveis:\n",
    "\n",
    "T = 298.15              #[K] temperatura\n",
    "P = 0.987               #[atm] pressão\n",
    "\n",
    "R = 8.314               #[J/(mol*K)]\n",
    "g_0_NO = 86.6           #[kJ/mol] G padrão de formação do NO\n",
    "g_0_O2 = 0.00           #[kJ/mol] G padrão de formação do O2    \n",
    "g_0_N2 = 0.00           #[kJ/mol] G padrão de formação do N2    \n",
    "\n",
    "\n",
    "# cálculo do DeltaG\n",
    "delta_g_0 = 2*g_0_NO - g_0_O2 - g_0_N2          #[kJ/mol]\n",
    "delta_g_01 = delta_g_0*1000                     #[J/mol]\n",
    "\n",
    "# Cálculo de K\n",
    "K_298 = np.exp((-delta_g_01)/(R*T))\n",
    "\n",
    "#composição do ar atmosférico\n",
    "\n",
    "y_N2 = 0.78\n",
    "y_O2 = 0.21\n",
    "\n",
    "y_NO_298 = np.sqrt(K_298*y_N2*y_O2)\n",
    "\n",
    "\n",
    "print( \" Constante de equilíbrio a 298.15 K é \\t\\t\\t %.1e\"%(K_298))\n",
    "print(\" A fração molar de NO no equilíbrio a 298K é \\t\\t %.1e\"%(y_NO_298))\n"
   ]
  },
  {
   "cell_type": "markdown",
   "metadata": {},
   "source": [
    "<font size=\"4\"> De acordo com o resultado, na atmosfera não poluída a 298 K, a concentração de NO é negligenciável. Agora será usada a equaçã ode van't Hoff integrada para obtermos a constante de equilíbrio a 2000 K e recalcularmos a nova concentração de equilíbrio do NO. \n",
    "    \n",
    "A reação estudada é exatamente a reação de formação do NO. Logo, a entalpia usada na equaçã ode van't Hoff será $\\Delta Hº _f (NO) $.<font>"
   ]
  },
  {
   "cell_type": "code",
   "execution_count": 4,
   "metadata": {
    "colab": {
     "base_uri": "https://localhost:8080/",
     "height": 52
    },
    "colab_type": "code",
    "executionInfo": {
     "elapsed": 982,
     "status": "ok",
     "timestamp": 1599918743178,
     "user": {
      "displayName": "Leonardo Baptista",
      "photoUrl": "https://lh3.googleusercontent.com/a-/AOh14GjbU4VJykcNXBUbYVc_hHe6AtHG07aImWtddXbw=s64",
      "userId": "16746628627498894795"
     },
     "user_tz": 180
    },
    "id": "WI2sCr7He8FZ",
    "outputId": "7be09cc0-f4df-4225-cc89-ef659bdfda45"
   },
   "outputs": [
    {
     "name": "stdout",
     "output_type": "stream",
     "text": [
      " Constante de equilíbrio a  2000 K é \t\t\t 3.7e-04\n",
      " A fração molar de NO no equilíbrio a 2000 K é \t\t 7.8e-03 \n"
     ]
    }
   ],
   "source": [
    "#item (c)\n",
    "\n",
    "T_1 = 2000                  #[K]\n",
    "\n",
    "h_0_NO = 90.25  # kJ/mol H padrão de formação do NO\n",
    "\n",
    "#cálculo K\n",
    "\n",
    "\n",
    "K_2000 = np.exp(np.log(K_298) -2*h_0_NO*1000/R *(1/T_1 -1/T))\n",
    "\n",
    "y_NO_2000 = np.sqrt(K_2000*y_N2*y_O2)       \n",
    "\n",
    "print( \" Constante de equilíbrio a  2000 K é \\t\\t\\t %.1e\"%(K_2000))\n",
    "print( \" A fração molar de NO no equilíbrio a 2000 K é \\t\\t %.1e \"%(y_NO_2000))\n"
   ]
  },
  {
   "cell_type": "markdown",
   "metadata": {},
   "source": [
    "<font size=\"4\"> O aumento da temperatura levou ao aumento da constante de equilíbrio e formação de NO. Neste caso o aumento da temperatura leva a um aumento do rendimento da reação. <font>"
   ]
  },
  {
   "cell_type": "markdown",
   "metadata": {
    "colab_type": "text",
    "id": "zFE7lD-Se8Fe"
   },
   "source": [
    "## Exemplo 2: Cálculo da composição de equilíbrio\n",
    "\n",
    "<font size=\"4\"> Refaça o cálculo da concentração de equilíbrio NO, do exercício anterior, a 2000 K e 1 atm, mas desta vez sem negligenciar a variação na concentração de $O_2$ e $N_2$.<font>"
   ]
  },
  {
   "cell_type": "markdown",
   "metadata": {
    "colab_type": "text",
    "id": "khPi86tre8Ff"
   },
   "source": [
    "## Solução\n",
    "\n",
    " <font size=\"4\"> A solução tradicional é montar o quadro que expressa o equilíbrio químico e resolver a equação quadrática resultante. Uma alternativa, que será usada neste exemplo, é a minimização da energia livre de Gibbs de reação a partir das equações que descrevem o modelo. \n",
    "\n",
    "|   |   |   |   |\n",
    "|---|---|---|---|\n",
    "|  |$O_2$ |$N_2$ |2NO|\n",
    "|ini |0.21| 0.78 | 0 |\n",
    "|eq | 0.21-x | 0.78-x | 2x |   \\\\\n",
    "\n",
    "\n",
    "A composição de equilíbrio será substituída na equação da constante de equilíbrio:\n",
    "    \n",
    "$$ K = \\frac{x_{NO_2} ^2}{x_{N_2} x_{O_2}} $$ \n",
    "\n",
    "$$ K = \\frac{(2x)^2}{(0.21-x) (0.78-x)} $$ \n",
    "    \n",
    "    \n",
    "<font>"
   ]
  },
  {
   "cell_type": "code",
   "execution_count": 9,
   "metadata": {
    "colab": {
     "base_uri": "https://localhost:8080/",
     "height": 34
    },
    "colab_type": "code",
    "executionInfo": {
     "elapsed": 711,
     "status": "ok",
     "timestamp": 1599919102411,
     "user": {
      "displayName": "Leonardo Baptista",
      "photoUrl": "https://lh3.googleusercontent.com/a-/AOh14GjbU4VJykcNXBUbYVc_hHe6AtHG07aImWtddXbw=s64",
      "userId": "16746628627498894795"
     },
     "user_tz": 180
    },
    "id": "O5li0ZKRe8Fi",
    "outputId": "6062c229-6fa8-42c7-dcb0-3f8b63e1f1f5"
   },
   "outputs": [
    {
     "name": "stdout",
     "output_type": "stream",
     "text": [
      " Fração molar do NO calculado neste exemplo 7.7e-03\n"
     ]
    }
   ],
   "source": [
    "Temp = 2000.                #[K]\n",
    "\n",
    "\n",
    "\n",
    "K_2000 = 3.7e-4 \n",
    "\n",
    "#escrevendo uma função no formato do python para cálculo do mínimo da energia livre \n",
    "# a função fsolve vai encontrar as raízes de uma função. Pode ser utilizada para resolução de sistemas. \n",
    "\n",
    "def f(x): \n",
    "\t return  (2*x)**2 - K_2000*(0.78-x)*(0.21-x)\n",
    "\n",
    "x = fsolve(f,0.01) # encontrar o valor de x que zera a função\n",
    "\n",
    "\n",
    "c_NO = 2*x\n",
    "\n",
    "\n",
    "print(\" Fração molar do NO calculado neste exemplo %.1e\"%(c_NO))\n"
   ]
  },
  {
   "cell_type": "markdown",
   "metadata": {
    "colab_type": "text",
    "id": "m4geXdyhe8Fm"
   },
   "source": [
    "## Exemplo 3\n",
    "\n",
    "<font size=\"4\">Determine a composição de equilíbrio para isomerisação do isobutano:\n",
    "\n",
    "butano <=> isobutano  K = 4.52 <font >"
   ]
  },
  {
   "cell_type": "markdown",
   "metadata": {
    "colab_type": "text",
    "id": "YjeEeBOje8Fo"
   },
   "source": [
    "<font size=\"4\"> Pra resolver o exercício basta escrever a constante de equilíbrio em termos da frção molar de isobutano\n",
    "\n",
    "$$ K = \\frac{x_{iso}}{1-x_{iso}}$$\n",
    "\n",
    "Depois usamos o *fsolve* para minimizar a energia de Gibbs. <font >"
   ]
  },
  {
   "cell_type": "code",
   "execution_count": 10,
   "metadata": {
    "colab": {
     "base_uri": "https://localhost:8080/",
     "height": 34
    },
    "colab_type": "code",
    "executionInfo": {
     "elapsed": 774,
     "status": "ok",
     "timestamp": 1599919336989,
     "user": {
      "displayName": "Leonardo Baptista",
      "photoUrl": "https://lh3.googleusercontent.com/a-/AOh14GjbU4VJykcNXBUbYVc_hHe6AtHG07aImWtddXbw=s64",
      "userId": "16746628627498894795"
     },
     "user_tz": 180
    },
    "id": "8GGY3nM9e8Fp",
    "outputId": "b2315153-2d81-4d18-e652-184f51addf87"
   },
   "outputs": [
    {
     "name": "stdout",
     "output_type": "stream",
     "text": [
      " Fração molar do isobutano 0.82\n"
     ]
    }
   ],
   "source": [
    "K = 4.52\n",
    "\n",
    "\n",
    "def f(x_iso): \n",
    "\t return  x_iso/(1-x_iso)-K\n",
    "\n",
    "x_iso = fsolve(f,0)\n",
    "\n",
    "print(\" Fração molar do isobutano %0.2f\"%(x_iso))\n",
    "\n"
   ]
  },
  {
   "cell_type": "markdown",
   "metadata": {
    "colab_type": "text",
    "id": "fPWIfWM6e8Fu"
   },
   "source": [
    "## Exemplo 4\n",
    "\n",
    "<font size=\"4\"> Plantas modernas para produção de amônia trabalham em torno de 400ºC e 150 atm de pressão. Considerando estas condições, estime a conversão no equilíbrio. Assuma comportamento de gás ideal. K(400ºC, 1 bar) = 0.0137 <font >"
   ]
  },
  {
   "cell_type": "markdown",
   "metadata": {
    "colab_type": "text",
    "id": "m8uI7Ljxe8Fw"
   },
   "source": [
    "## Solução\n",
    "\n",
    "<font size=\"4\"> A reação em questão é $ 0.5N_2(g) + 1.5H_2(g) \\rightarrow NH_3(g) $.\n",
    "Inicialmente deve-se montar o quadro de equlíbrio e substituir as frações na equação da constante de equilíbrio\n",
    "\n",
    "|          |          |          |          |          |\n",
    "|----------|----------|----------|----------|----------|\n",
    "|          |0.5$N_2$     |1.5$H_2$ |$NH_3$| |\n",
    "|ini       |0.5       | 1.5 | 0 |\n",
    "|eq        | 0.5-0.5x | 1.5-1.5x | x |\n",
    "|x         | $ \\frac{0.5-0.5x}{2.0-x}$ | $ \\frac{1.5-1.5x}{2.0-x}$ | $ \\frac{x}{2.0-x } $ |\n",
    "\n",
    "$ K_x = \\frac{\\frac{x}{2.0-x}}{(\\frac{0.5-0.5x}{2.0-x})^{0.5} \\times (\\frac{1.5-1.5x}{2.0-x})^{1.5}}  $\n",
    "\n",
    "Como foi fornecido a constante a 1 bar, é preciso recalcular o valor da constante de equilíbrio a 150 atm. Lembre-se que $K_p$ é independente da pressão.\n",
    "\n",
    "$K_{400°C,1bar} = K_{x} \\times P^{\\Delta \\nu_i}  = K_{x} \\times P[bar]^{(1-0.5-1.5)}$\n",
    "    <font >"
   ]
  },
  {
   "cell_type": "code",
   "execution_count": 19,
   "metadata": {
    "colab": {
     "base_uri": "https://localhost:8080/",
     "height": 34
    },
    "colab_type": "code",
    "executionInfo": {
     "elapsed": 672,
     "status": "ok",
     "timestamp": 1599920294907,
     "user": {
      "displayName": "Leonardo Baptista",
      "photoUrl": "https://lh3.googleusercontent.com/a-/AOh14GjbU4VJykcNXBUbYVc_hHe6AtHG07aImWtddXbw=s64",
      "userId": "16746628627498894795"
     },
     "user_tz": 180
    },
    "id": "PQZE3I9Pe8Fw",
    "outputId": "984d9570-a17f-42bf-e48d-76f7aaabfc0e"
   },
   "outputs": [
    {
     "name": "stdout",
     "output_type": "stream",
     "text": [
      "A fração molar de amônia no equilíbrio é  0.31\n"
     ]
    }
   ],
   "source": [
    "Temp = 273.15+400           #[K]\n",
    "P = 150*1.01325             #[bar]\n",
    "\n",
    "K_673 = 0.013\n",
    "\n",
    "#calculando a constante a 150 atm\n",
    "K = K_673*P**(1.5+0.5-1)\n",
    "\n",
    "#escrevendo a função que descreve o problema de equilíbrio\n",
    "\n",
    "def f(x): \n",
    "\t return  (x/(2-x))/(((0.5-0.5*x)/(2-x))**(0.5)*((1.5-1.5*x)/(2-x))**(1.5))-K\n",
    "\n",
    "x=fsolve(f,0.1)\n",
    "\n",
    "y_NH3 = x/(2-x)\n",
    "\n",
    "print(\"A fração molar de amônia no equilíbrio é  %0.2f\"%(y_NH3))"
   ]
  },
  {
   "cell_type": "code",
   "execution_count": null,
   "metadata": {
    "colab": {},
    "colab_type": "code",
    "id": "M0Z8rkfQe8F6"
   },
   "outputs": [],
   "source": []
  }
 ],
 "metadata": {
  "colab": {
   "name": "Equilíbrio Químico.ipynb",
   "provenance": []
  },
  "kernelspec": {
   "display_name": "Python 3",
   "language": "python",
   "name": "python3"
  },
  "language_info": {
   "codemirror_mode": {
    "name": "ipython",
    "version": 3
   },
   "file_extension": ".py",
   "mimetype": "text/x-python",
   "name": "python",
   "nbconvert_exporter": "python",
   "pygments_lexer": "ipython3",
   "version": "3.8.10"
  }
 },
 "nbformat": 4,
 "nbformat_minor": 1
}
